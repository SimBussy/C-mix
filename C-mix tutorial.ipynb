{
 "cells": [
  {
   "cell_type": "markdown",
   "metadata": {},
   "source": [
    "# C-mix model tutorial"
   ]
  },
  {
   "cell_type": "code",
   "execution_count": 1,
   "metadata": {},
   "outputs": [],
   "source": [
    "%reset -f\n",
    "%matplotlib inline\n",
    "%load_ext rpy2.ipython\n",
    "import numpy as np\n",
    "import pylab as pl\n",
    "import pandas as pd\n",
    "from QNEM.inference import QNEM\n",
    "from QNEM.simulation import CensoredGeomMixtureRegression\n",
    "from sklearn.model_selection import ShuffleSplit\n",
    "from lifelines.utils import concordance_index as c_index_score\n",
    "from time import time\n",
    "from matplotlib import rc\n",
    "rc('font',**{'family':'sans-serif','sans-serif':['Helvetica']})\n",
    "rc('text', usetex=True)"
   ]
  },
  {
   "cell_type": "code",
   "execution_count": 2,
   "metadata": {},
   "outputs": [
    {
     "name": "stdout",
     "output_type": "stream",
     "text": [
      "-----------------------------------------------------------\n",
      "Launching simulation using CensoredGeomMixtureRegression...\n",
      "Done simulating using CensoredGeomMixtureRegression in 2.03e-01 seconds.\n"
     ]
    }
   ],
   "source": [
    "## Choose parameters ##\n",
    "n_samples = 1000          # number of patients\n",
    "n_features = 100          # number of features\n",
    "n_active_features = 30    # number of active features\n",
    "K = 1.                    # value of the active coefficients \n",
    "gap = .1                  # gap value to create high/low risk groups\n",
    "rho = 0.5                 # coefficient of the toeplitz correlation matrix\n",
    "r_cf = .5                 # confusion factors rate \n",
    "r_c = 0.5                 # censoring rate\n",
    "pi0 = 0.75                # proportion of desired low risk patients rate\n",
    "p0 = .01                  # geometric parameter for low risk patients\n",
    "p1 = 0.5                  # geometric parameter for high risk patients\n",
    "verbose = True            # verbose mode to detail or not ongoing tasks\n",
    "\n",
    "simu = CensoredGeomMixtureRegression(verbose, n_samples, n_features,\n",
    "                                     n_active_features, K, rho, pi0,\n",
    "                                     gap, r_c, r_cf, p0, p1)\n",
    "X, Y, delta = simu.simulate()"
   ]
  },
  {
   "cell_type": "markdown",
   "metadata": {},
   "source": [
    "## Data splitting"
   ]
  },
  {
   "cell_type": "code",
   "execution_count": 3,
   "metadata": {},
   "outputs": [
    {
     "name": "stdout",
     "output_type": "stream",
     "text": [
      "70% for training, 30% for testing.\n"
     ]
    }
   ],
   "source": [
    "## Assign index for each feature ##\n",
    "features_names = range(X.shape[1]) \n",
    "n_samples, n_features = X.shape\n",
    "\n",
    "## Split data into training and test sets ##\n",
    "test_size = .3  # proportion of data used for testing\n",
    "rs = ShuffleSplit(n_splits=1, test_size=test_size, random_state=0)\n",
    "\n",
    "for train_index, test_index in rs.split(X):\n",
    "    X_test = X[test_index]\n",
    "    delta_test = delta[test_index]\n",
    "    Y_test = Y[test_index]\n",
    "\n",
    "    X = X[train_index]\n",
    "    Y = Y[train_index]\n",
    "    delta = delta[train_index]  \n",
    "    \n",
    "print(\"%d%% for training, %d%% for testing.\" \n",
    "      % ((1 - test_size) * 100, test_size * 100))"
   ]
  },
  {
   "cell_type": "markdown",
   "metadata": {},
   "source": [
    "## Training "
   ]
  },
  {
   "cell_type": "code",
   "execution_count": 4,
   "metadata": {
    "scrolled": false
   },
   "outputs": [
    {
     "name": "stdout",
     "output_type": "stream",
     "text": [
      "\n",
      "Launching C-mix...\n",
      "\n",
      "Testing l_elastic_net=6.18e-05 on fold  0 1 2 3 4: avg_score=8.05e-01\n",
      "Testing l_elastic_net=8.49e-05 on fold  0 1 2 3 4: avg_score=8.03e-01\n",
      "Testing l_elastic_net=1.17e-04 on fold  0 1 2 3 4: avg_score=8.02e-01\n",
      "Testing l_elastic_net=1.60e-04 on fold  0 1 2 3 4: avg_score=8.03e-01\n",
      "Testing l_elastic_net=2.20e-04 on fold  0 1 2 3 4: avg_score=7.97e-01\n",
      "Testing l_elastic_net=3.02e-04 on fold  0 1 2 3 4: avg_score=8.12e-01\n",
      "Testing l_elastic_net=4.15e-04 on fold  0 1 2 3 4: avg_score=8.11e-01\n",
      "Testing l_elastic_net=5.70e-04 on fold  0 1 2 3 4: avg_score=8.07e-01\n",
      "Testing l_elastic_net=7.84e-04 on fold  0 1 2 3 4: avg_score=8.21e-01\n",
      "Testing l_elastic_net=1.08e-03 on fold  0 1 2 3 4: avg_score=8.16e-01\n",
      "Testing l_elastic_net=1.48e-03 on fold  0 1 2 3 4: avg_score=8.23e-01\n",
      "Testing l_elastic_net=2.03e-03 on fold  0 1 2 3 4: avg_score=8.27e-01\n",
      "Testing l_elastic_net=2.79e-03 on fold  0 1 2 3 4: avg_score=8.27e-01\n",
      "Testing l_elastic_net=3.84e-03 on fold  0 1 2 3 4: avg_score=8.33e-01\n",
      "Testing l_elastic_net=5.27e-03 on fold  0 1 2 3 4: avg_score=8.31e-01\n",
      "Testing l_elastic_net=7.24e-03 on fold  0 1 2 3 4: avg_score=8.34e-01\n",
      "Testing l_elastic_net=9.95e-03 on fold  0 1 2 3 4: avg_score=8.28e-01\n",
      "Testing l_elastic_net=1.37e-02 on fold  0 1 2 3 4: avg_score=8.29e-01\n",
      "Testing l_elastic_net=1.88e-02 on fold  0 1 2 3 4: avg_score=8.32e-01\n",
      "Testing l_elastic_net=2.58e-02 on fold  0 1 2 3 4: avg_score=8.35e-01\n",
      "Testing l_elastic_net=3.54e-02 on fold  0 1 2 3 4: avg_score=8.32e-01\n",
      "Testing l_elastic_net=4.87e-02 on fold  0 1 2 3 4: avg_score=8.20e-01\n",
      "Testing l_elastic_net=6.69e-02 on fold  0 1 2 3 4: avg_score=8.15e-01\n",
      "Testing l_elastic_net=9.19e-02 on fold  0 1 2 3 4: avg_score=7.97e-01\n",
      "Testing l_elastic_net=1.26e-01 on fold  0 1 2 3 4: avg_score=7.58e-01\n",
      "Testing l_elastic_net=1.73e-01 on fold  0 1 2 3 4: avg_score=6.58e-01\n",
      "Testing l_elastic_net=2.38e-01 on fold  0 1 2 3 4: avg_score=5.00e-01\n",
      "Testing l_elastic_net=3.27e-01 on fold  0 1 2 3 4: avg_score=5.00e-01\n",
      "Testing l_elastic_net=4.50e-01 on fold  0 1 2 3 4: avg_score=5.00e-01\n",
      "Testing l_elastic_net=6.18e-01 on fold  0 1 2 3 4: avg_score=5.00e-01\n",
      "Launching the solver QNEM...\n",
      "init: p0=0.00855698154358016\n",
      "init: p1=0.47834364999181805\n",
      " n_iter  |   obj    | rel_obj \n",
      "       0 |  3.46508 |        1\n",
      "       1 |  3.37676 | 0.025486\n",
      "       2 |  3.37363 | 0.000928419\n",
      "       3 |  3.37351 | 3.69972e-05\n",
      "       4 |  3.37349 | 3.24654e-06\n",
      "       5 |  3.37349 | 6.58072e-07\n",
      "At the end: p0=0.007726983320280074\n",
      "At the end: p1=0.4893151956439332\n",
      "Done solving using QNEM in 4.51e-02 seconds\n"
     ]
    }
   ],
   "source": [
    "## Choose parameters ##\n",
    "tol = 1e-6            # tolerance for the convergence stopping criterion \n",
    "eta = 0.3             # parameter controlling the trade-off between l1 \n",
    "                      # and l2 regularization in the elasticNet\n",
    "fit_intercept = True  # whether or not an intercept term is fitted\n",
    "gamma_chosen = '1se'  # way to select l_elasticNet_chosen: '1se' or 'min'\n",
    "warm_start = True     # at each L-BGFS-B iteration, reset beta to 0 or take \n",
    "                      # the previous value \n",
    "grid_size = 30        # grid size for the cross validation procedure\n",
    "metric = 'C-index'    # cross-validation metric: 'log_lik' or 'C-index'\n",
    "verbose = True \n",
    "\n",
    "## Choose between C-mix or CURE model ##\n",
    "model = \"C-mix\"  # \"C-mix\", \"CURE\"       \n",
    "\n",
    "if verbose:\n",
    "    print(\"\\nLaunching %s...\\n\" % model)\n",
    "\n",
    "learner = QNEM(l_elastic_net=0., eta=eta, max_iter=100, tol=tol, \n",
    "               warm_start=warm_start, verbose=verbose, model=model, \n",
    "               fit_intercept=fit_intercept)\n",
    "learner.n_features = n_features         \n",
    "\n",
    "## Cross-validation ##\n",
    "learner.cross_validate(X, Y, delta, n_folds=5, verbose=False, eta=eta, \n",
    "                       grid_size=grid_size, metric=metric)\n",
    "avg_scores = learner.scores.mean(axis=1)\n",
    "l_elastic_net_best = learner.l_elastic_net_best\n",
    "if gamma_chosen == '1se':\n",
    "    l_elastic_net_chosen = learner.l_elastic_net_chosen\n",
    "if gamma_chosen == 'min':\n",
    "    l_elastic_net_chosen = l_elastic_net_best\n",
    "    \n",
    "grid_elastic_net = learner.grid_elastic_net # get the cross-validation grid \n",
    "                                            # to plot learning curves\n",
    "\n",
    "## Run selected model with l_elasticNet_chosen ##\n",
    "learner = QNEM(l_elastic_net=l_elastic_net_chosen, eta=eta, tol=tol,\n",
    "               warm_start=warm_start, verbose=verbose, model=model,\n",
    "               fit_intercept=fit_intercept)\n",
    "learner.n_features = n_features\n",
    "learner.fit(X, Y, delta)  "
   ]
  },
  {
   "cell_type": "markdown",
   "metadata": {},
   "source": [
    "## Prediction"
   ]
  },
  {
   "cell_type": "code",
   "execution_count": 5,
   "metadata": {},
   "outputs": [
    {
     "name": "stdout",
     "output_type": "stream",
     "text": [
      "Done predicting on test set.\n",
      "C-index : 0.66\n"
     ]
    }
   ],
   "source": [
    "## Obtain the marker vector on test set ##\n",
    "coeffs = learner.coeffs\n",
    "marker = QNEM.predict_proba(X_test, fit_intercept, coeffs) \n",
    "c_index = c_index_score(Y_test, delta_test, marker)\n",
    "c_index = max(c_index, 1 - c_index)\n",
    "\n",
    "print(\"Done predicting on test set.\")\n",
    "print(\"C-index : %.2f\" % c_index)"
   ]
  },
  {
   "cell_type": "markdown",
   "metadata": {},
   "source": [
    "## Figures"
   ]
  },
  {
   "cell_type": "markdown",
   "metadata": {},
   "source": [
    "### Learning curves"
   ]
  },
  {
   "cell_type": "code",
   "execution_count": 6,
   "metadata": {},
   "outputs": [
    {
     "data": {
      "image/png": "[encoded data removed]",
      "text/plain": [
       "<matplotlib.figure.Figure at 0x1a139a36d8>"
      ]
     },
     "metadata": {},
     "output_type": "display_data"
    }
   ],
   "source": [
    "## Display learning curves ##\n",
    "score_test = []\n",
    "for idx_elastic_net, l_elastic_net in enumerate(grid_elastic_net):\n",
    "    learner_ = QNEM(verbose=False, l_elastic_net=l_elastic_net,\n",
    "                    eta=eta, warm_start=warm_start, tol=tol, model=model,\n",
    "                    fit_intercept=fit_intercept)\n",
    "    learner_.n_features = n_features\n",
    "    learner_.fit(X, Y, delta)\n",
    "    if metric == 'log_lik':\n",
    "        pc_ = 1. / np.mean(T[delta == 0])\n",
    "        score_ = learner_._log_lik(X_test, Y_test, delta_test)              \n",
    "    if metric == 'C-index':\n",
    "        marker_ = QNEM.predict_proba(X_test, fit_intercept, learner_.coeffs)\n",
    "        score_ = c_index_score(Y_test, marker_, delta_test) \n",
    "    score_test.append(score_)\n",
    "\n",
    "fig = pl.figure(figsize = (10, 6))\n",
    "ax = fig.add_subplot(111)\n",
    "ax.plot(grid_elastic_net, avg_scores, '-b', label=metric + ' on test (CV)')\n",
    "pl.xscale('log')\n",
    "ax.plot(grid_elastic_net, score_test, '-r', label=metric + ' on validation')\n",
    "y_min, y_max = ax.get_ylim()\n",
    "ax.set_ylim([y_min, y_max])\n",
    "ax.plot(l_elastic_net_best, y_min, 'g^', ms=20, label='best $\\gamma$ CV')\n",
    "ax.plot(l_elastic_net_chosen, y_min, 'r^', ms=20, label='$\\gamma$ chosen')\n",
    "pl.title(\"Learning curves %s\" % model, fontsize=20)\n",
    "pl.xlabel('$\\gamma$', fontsize=20)\n",
    "pl.ylabel(metric, fontsize=20)\n",
    "pl.xticks(fontsize = 18)\n",
    "pl.yticks(fontsize = 18)\n",
    "pl.legend(numpoints=1, markerscale=.5, fontsize=20)\n",
    "pl.show()"
   ]
  },
  {
   "cell_type": "markdown",
   "metadata": {},
   "source": [
    "### Convergence"
   ]
  },
  {
   "cell_type": "code",
   "execution_count": 7,
   "metadata": {},
   "outputs": [
    {
     "data": {
      "image/png": "[encoded data removed]",
      "text/plain": [
       "<matplotlib.figure.Figure at 0x1a13993908>"
      ]
     },
     "metadata": {},
     "output_type": "display_data"
    }
   ],
   "source": [
    "pl.figure(figsize=(10, 6))\n",
    "pl.title(\"Objective convergence %s\" % model, fontsize=20)\n",
    "pl.xlabel('QNEM iterations', fontsize=20)\n",
    "pl.ylabel('Objective', fontsize=20)\n",
    "pl.xticks(fontsize = 18)\n",
    "pl.yticks(fontsize = 18)\n",
    "pl.plot(learner.get_history(\"n_iter\"), learner.get_history(\"obj\"), '-b')\n",
    "pl.show()"
   ]
  },
  {
   "cell_type": "markdown",
   "metadata": {},
   "source": [
    "### Beta coefficients"
   ]
  },
  {
   "cell_type": "code",
   "execution_count": 8,
   "metadata": {
    "scrolled": false
   },
   "outputs": [
    {
     "data": {
      "image/png": "[encoded data removed]",
      "text/plain": [
       "<matplotlib.figure.Figure at 0x1a1d6a7240>"
      ]
     },
     "metadata": {},
     "output_type": "display_data"
    }
   ],
   "source": [
    "## True beta ##\n",
    "beta = np.zeros(n_features)\n",
    "beta[0:n_active_features] = K\n",
    "fig = pl.figure(figsize=(15, 4))\n",
    "ax1 = fig.add_subplot(121)\n",
    "ax1.stem(beta, linefmt='b-', markerfmt='bo')\n",
    "ax1.set_xlim([-5, len(beta) + 5])\n",
    "ax1.set_title(r\"$\\beta$\", fontsize=20)\n",
    "pl.xticks(fontsize = 18)\n",
    "pl.yticks(fontsize = 18)\n",
    "\n",
    "## Beta estimate ##\n",
    "if fit_intercept:\n",
    "    coeffs = -coeffs[1:]\n",
    "ax2 = fig.add_subplot(122)\n",
    "ax2.stem(coeffs, linefmt='b-', markerfmt='bo')\n",
    "cf_end = n_active_features + int((n_features-n_active_features) * r_cf)\n",
    "coeffs_cf = coeffs[n_active_features:cf_end]\n",
    "coeffs_cf = np.append(np.repeat([np.nan], n_active_features), coeffs_cf)\n",
    "ax2.stem(coeffs_cf, linefmt='m-', markerfmt='mo', label='confusion factors')\n",
    "ax2.set_xlim([-5, len(coeffs) + 5])\n",
    "ax2.set_title(r\"$\\hat \\beta$ %s\" % model, fontsize=20)\n",
    "pl.xticks(fontsize = 18)\n",
    "pl.yticks(fontsize = 18)\n",
    "pl.legend(fontsize=20)\n",
    "pl.show()"
   ]
  },
  {
   "cell_type": "code",
   "execution_count": null,
   "metadata": {
    "collapsed": true
   },
   "outputs": [],
   "source": []
  }
 ],
 "metadata": {
  "anaconda-cloud": {},
  "kernelspec": {
   "display_name": "Python 3",
   "language": "python",
   "name": "python3"
  },
  "language_info": {
   "codemirror_mode": {
    "name": "ipython",
    "version": 3
   },
   "file_extension": ".py",
   "mimetype": "text/x-python",
   "name": "python",
   "nbconvert_exporter": "python",
   "pygments_lexer": "ipython3",
   "version": "3.6.3"
  }
 },
 "nbformat": 4,
 "nbformat_minor": 1
}
